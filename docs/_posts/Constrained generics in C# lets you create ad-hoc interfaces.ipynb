{
 "cells": [
  {
   "cell_type": "markdown",
   "id": "96a213b6",
   "metadata": {},
   "source": [
    "This nifty thing, which I hadn't thought about in that way, actually hit me like a ton of bricks earlier.\n",
    "\n",
    "In C#, if you do this, you can call both Foo() and Bar(): "
   ]
  },
  {
   "cell_type": "code",
   "execution_count": null,
   "id": "35b9efbe",
   "metadata": {},
   "outputs": [],
   "source": [
    "public interface IFoo{\n",
    "    public void Foo();\n",
    "}\n",
    "\n",
    "public interface IBar{\n",
    "    public void Bar();\n",
    "}\n",
    "\n",
    "public void Doit<T>(T foobar) where T : IFoo, IBar{\n",
    "    foobar.Foo();\n",
    "    foobar.Bar(); // You can call both!\n",
    "}"
   ]
  },
  {
   "cell_type": "markdown",
   "id": "b902676c",
   "metadata": {},
   "source": [
    "By the interface segregation principle, you should have small interfaces like IFoo and IBar -- which have only a single method each in this example, and that is on purpose. But invariably, there will be situations where you need more than one interface at once.\n",
    "\n",
    "Constrained generics actually lets you create ad-hoc combinations of interfaces! This lets you do something that there is absolutely no other nice way to do in C#. There are some non-nice ways, like you can create IFooBar : IFoo, IBar, but you'll need N²/2 interfaces like that to cover all the cases of just two interfaces. Or you can use an interface that you probably already have: IKitchenSink : IFoo, IBar, ISomethingElse, ISomethingElseAgain -- but that is exactly what we are trying to avoid by having small interfaces like IFoo and IBar. \n"
   ]
  },
  {
   "cell_type": "markdown",
   "id": "494f1137",
   "metadata": {},
   "source": [
    "# C# is essentially creating IFooBar for you"
   ]
  },
  {
   "cell_type": "markdown",
   "id": "a1a021b1",
   "metadata": {},
   "source": [
    "Using generic constraints, you can essentially have an anonymous ad-hoc interface in the scope of a single method or type. I hadn't thought about it in this way before: This lets you compose interfaces in a way that otherwise would very tedious. "
   ]
  }
 ],
 "metadata": {
  "kernelspec": {
   "display_name": "Python 3 (ipykernel)",
   "language": "python",
   "name": "python3"
  },
  "language_info": {
   "codemirror_mode": {
    "name": "ipython",
    "version": 3
   },
   "file_extension": ".py",
   "mimetype": "text/x-python",
   "name": "python",
   "nbconvert_exporter": "python",
   "pygments_lexer": "ipython3",
   "version": "3.11.2"
  }
 },
 "nbformat": 4,
 "nbformat_minor": 5
}
